{
 "cells": [
  {
   "cell_type": "markdown",
   "metadata": {},
   "source": [
    "# Learning effect with 2 parallel identical machines\n",
    "\n",
    "## Worker class\n"
   ]
  },
  {
   "cell_type": "code",
   "execution_count": null,
   "metadata": {},
   "outputs": [],
   "source": [
    "#pragma once\n",
    "\n",
    "#include <vector>\n",
    "#include <cmath>\n",
    "\n",
    "using namespace std;\n",
    "\n",
    "class Worker {\n",
    "private:\n",
    "    vector<int> jobs;\n",
    "\n",
    "public:\n",
    "    Worker(vector<int>);\n",
    "    float work(const float);\n",
    "};"
   ]
  },
  {
   "cell_type": "code",
   "execution_count": null,
   "metadata": {},
   "outputs": [],
   "source": [
    "#include \"Worker.hpp\"\n",
    "\n",
    "Worker::Worker(vector<int> jobs) {\n",
    "    Worker::jobs = jobs;\n",
    "}\n",
    "\n",
    "float Worker::work(const float learningFactor) {\n",
    "    // Return the CMAX by formula\n",
    "    float ans = 0;\n",
    "    for (vector<int>::size_type i = 0; i < jobs.size(); ++i) {\n",
    "        ans += jobs.at(i) * pow(i+1, learningFactor);\n",
    "    }\n",
    "    return ans;\n",
    "}"
   ]
  },
  {
   "cell_type": "code",
   "execution_count": null,
   "metadata": {},
   "outputs": [],
   "source": [
    "Worker w({1,5,5});\n",
    "w.work(-0.5);"
   ]
  },
  {
   "cell_type": "code",
   "execution_count": null,
   "metadata": {},
   "outputs": [],
   "source": [
    "#include <iostream>\n",
    "\n",
    "std::cout << \"some output\" << std::endl;"
   ]
  },
  {
   "cell_type": "code",
   "execution_count": null,
   "metadata": {},
   "outputs": [],
   "source": []
  },
  {
   "cell_type": "code",
   "execution_count": null,
   "metadata": {},
   "outputs": [],
   "source": []
  },
  {
   "cell_type": "code",
   "execution_count": null,
   "metadata": {},
   "outputs": [],
   "source": []
  }
 ],
 "metadata": {
  "kernelspec": {
   "display_name": "C++17",
   "language": "C++17",
   "name": "xcpp17"
  }
 },
 "nbformat": 4,
 "nbformat_minor": 4
}